{
 "cells": [
  {
   "cell_type": "code",
   "execution_count": null,
   "metadata": {
    "colab": {
     "base_uri": "https://localhost:8080/"
    },
    "id": "hCcdzj9WQCOc",
    "outputId": "31c7e834-9438-4509-91c9-e18a9e145923"
   },
   "outputs": [],
   "source": [
    "!pip install transformers langchain accelerate"
   ]
  },
  {
   "cell_type": "code",
   "execution_count": null,
   "metadata": {
    "colab": {
     "base_uri": "https://localhost:8080/",
     "height": 87
    },
    "id": "VdGaSyfEPgRQ",
    "outputId": "4acbb18e-2856-4354-dd31-8f4dde076dff"
   },
   "outputs": [],
   "source": [
    "from transformers import pipeline\n",
    "import torch\n",
    "\n",
    "generate_text = pipeline(\n",
    "    model=\"aisquared/dlite-v1-355m\",\n",
    "    torch_dtype=torch.bfloat16,\n",
    "    trust_remote_code=True,\n",
    ")\n",
    "generate_text(\"In this chapter, we'll discuss first steps with generative AI in Python.\")"
   ]
  },
  {
   "cell_type": "markdown",
   "metadata": {
    "id": "ZYAn7lQdYpa9"
   },
   "source": [
    "Ejemplo 1: Generación de una historia interactiva\n",
    "\n",
    "Este ejemplo genera una historia interactiva donde el lector puede elegir diferentes opciones y el modelo continuará la historia según la elección del lector."
   ]
  },
  {
   "cell_type": "code",
   "execution_count": null,
   "metadata": {
    "colab": {
     "base_uri": "https://localhost:8080/"
    },
    "id": "Bfqyn3fOYvUF",
    "outputId": "17048a3d-8c0d-4302-bce9-2294d44fd6ba"
   },
   "outputs": [],
   "source": [
    "from transformers import pipeline\n",
    "import torch\n",
    "\n",
    "# Crear el pipeline de generación de texto\n",
    "generate_text = pipeline(\n",
    "    model=\"aisquared/dlite-v1-355m\",\n",
    "    torch_dtype=torch.bfloat16,\n",
    "    trust_remote_code=True,\n",
    ")\n",
    "\n",
    "# Función para generar continuación de la historia\n",
    "def continue_story(prompt, choice):\n",
    "    story = generate_text(f\"{prompt} {choice}\")\n",
    "    return story\n",
    "\n",
    "# Historia inicial\n",
    "story_prompt = \"You find yourself in a dark forest. There are two paths in front of you. Do you take the left path or the right path?\"\n",
    "print(story_prompt)\n",
    "\n",
    "# Primer elección\n",
    "choice1 = input(\"Enter your choice (left/right): \").strip().lower()\n",
    "story1 = continue_story(story_prompt, choice1)\n",
    "print(story1)\n",
    "\n",
    "# Segunda elección\n",
    "story_prompt2 = story1 + \"\\nYou come across a mysterious figure. Do you approach the figure or hide behind a tree?\"\n",
    "choice2 = input(\"Enter your choice (approach/hide): \").strip().lower()\n",
    "story2 = continue_story(story1, choice2)\n",
    "print(story2)\n",
    "\n",
    "# Tercera elección\n",
    "story_prompt3 = story2 + \"\\nThe figure offers you a magical item. Do you accept it or decline?\"\n",
    "choice3 = input(\"Enter your choice (accept/decline): \").strip().lower()\n",
    "story3 = continue_story(story2, choice3)\n",
    "print(story3)\n",
    "\n",
    "# Cuarta elección\n",
    "story_prompt4 = story3 + \"\\nWith the magical item in hand, you feel a surge of power. Do you use the item immediately or save it for later?\"\n",
    "choice4 = input(\"Enter your choice (use/save): \").strip().lower()\n",
    "story4 = continue_story(story3, choice4)\n",
    "print(story4)\n",
    "\n",
    "# Quinta elección\n",
    "story_prompt5 = story4 + \"\\nYou encounter a fierce dragon. Do you fight the dragon or try to communicate with it?\"\n",
    "choice5 = input(\"Enter your choice (fight/communicate): \").strip().lower()\n",
    "story5 = continue_story(story4, choice5)\n",
    "print(story5)\n",
    "\n",
    "# Conclusión de la historia\n",
    "print(\"\\nYour story concludes here. Thank you for playing!\")\n"
   ]
  },
  {
   "cell_type": "markdown",
   "metadata": {
    "id": "FuoWUFRPtPzX"
   },
   "source": [
    "Ejemplo 2: Generación de un documento técnico\n",
    "\n",
    "Este ejemplo utiliza el modelo para generar un documento técnico sobre inteligencia artificial, dividiendo el contenido en secciones específicas."
   ]
  },
  {
   "cell_type": "code",
   "execution_count": null,
   "metadata": {
    "colab": {
     "base_uri": "https://localhost:8080/",
     "height": 966
    },
    "id": "7Q7t_a67YzbV",
    "outputId": "19caa089-bad5-440a-ce3b-be0fe8fc127c"
   },
   "outputs": [],
   "source": [
    "from transformers import pipeline\n",
    "import torch\n",
    "\n",
    "# Crear el pipeline de generación de texto\n",
    "generate_text = pipeline(\n",
    "    model=\"aisquared/dlite-v1-355m\",\n",
    "    torch_dtype=torch.bfloat16,\n",
    "    trust_remote_code=True,\n",
    ")\n",
    "\n",
    "# Función para generar secciones del documento\n",
    "def generate_section(title):\n",
    "    section = generate_text(f\"Write a detailed section on {title} in the context of artificial intelligence.\")\n",
    "    return section\n",
    "\n",
    "# Título del documento\n",
    "title = \"A Comprehensive Guide to Artificial Intelligence\"\n",
    "print(title)\n",
    "print(\"=\" * len(title))\n",
    "\n",
    "# Sección 1: Introducción\n",
    "section1_title = \"Introduction\"\n",
    "print(f\"\\n{section1_title}\")\n",
    "print(\"-\" * len(section1_title))\n",
    "section1 = generate_section(section1_title)\n",
    "print(section1)\n",
    "\n",
    "# Sección 2: History of Artificial Intelligence\n",
    "section2_title = \"History of Artificial Intelligence\"\n",
    "print(f\"\\n{section2_title}\")\n",
    "print(\"-\" * len(section2_title))\n",
    "section2 = generate_section(section2_title)\n",
    "print(section2)\n",
    "\n",
    "# Sección 3: Machine Learning\n",
    "section3_title = \"Machine Learning\"\n",
    "print(f\"\\n{section3_title}\")\n",
    "print(\"-\" * len(section3_title))\n",
    "section3 = generate_section(section3_title)\n",
    "print(section3)\n",
    "\n",
    "# Sección 4: Deep Learning\n",
    "section4_title = \"Deep Learning\"\n",
    "print(f\"\\n{section4_title}\")\n",
    "print(\"-\" * len(section4_title))\n",
    "section4 = generate_section(section4_title)\n",
    "print(section4)\n",
    "\n",
    "# Sección 5: Applications of AI\n",
    "section5_title = \"Applications of AI\"\n",
    "print(f\"\\n{section5_title}\")\n",
    "print(\"-\" * len(section5_title))\n",
    "section5 = generate_section(section5_title)\n",
    "print(section5)\n",
    "\n",
    "# Sección 6: Future of AI\n",
    "section6_title = \"Future of AI\"\n",
    "print(f\"\\n{section6_title}\")\n",
    "print(\"-\" * len(section6_title))\n",
    "section6 = generate_section(section6_title)\n",
    "print(section6)\n",
    "\n",
    "# Conclusión del documento\n",
    "conclusion_title = \"Conclusion\"\n",
    "print(f\"\\n{conclusion_title}\")\n",
    "print(\"-\" * len(conclusion_title))\n",
    "conclusion = generate_text(\"Write a conclusion for a comprehensive guide to artificial intelligence.\")\n",
    "print(conclusion)\n"
   ]
  },
  {
   "cell_type": "markdown",
   "metadata": {
    "id": "1_mf8qny4te_"
   },
   "source": [
    "Ejemplo 3: Explicaciones y ejemplos de funciones matemáticas\n",
    "\n",
    "Este ejemplo proporcionará una explicación de varios conceptos matemáticos y ejemplos prácticos para cada uno."
   ]
  },
  {
   "cell_type": "code",
   "execution_count": null,
   "metadata": {
    "colab": {
     "base_uri": "https://localhost:8080/",
     "height": 445
    },
    "id": "4sKf0gGKtlsH",
    "outputId": "3b5ae448-5f72-4b04-89bd-f0c6ebb89d95"
   },
   "outputs": [],
   "source": [
    "from transformers import pipeline\n",
    "import torch\n",
    "\n",
    "# Crear el pipeline de generación de texto\n",
    "generate_text = pipeline(\n",
    "    model=\"aisquared/dlite-v1-355m\",\n",
    "    torch_dtype=torch.bfloat16,\n",
    "    trust_remote_code=True,\n",
    ")\n",
    "\n",
    "# Función para generar explicaciones matemáticas\n",
    "def explain_math_concept(concept):\n",
    "    explanation = generate_text(f\"Explain the concept of {concept} with examples.\")\n",
    "    return explanation\n",
    "\n",
    "# Función para generar ejemplos prácticos\n",
    "def generate_math_examples(concept):\n",
    "    examples = generate_text(f\"Provide practical examples and step-by-step solutions for the concept of {concept}.\")\n",
    "    return examples\n",
    "\n",
    "# Lista de conceptos matemáticos\n",
    "math_concepts = [\"derivatives\", \"integrals\", \"linear algebra\", \"probability\", \"statistics\"]\n",
    "\n",
    "# Generar explicaciones y ejemplos para cada concepto\n",
    "for concept in math_concepts:\n",
    "    print(f\"Concept: {concept.capitalize()}\")\n",
    "    print(\"=\" * (len(concept) + 8))\n",
    "\n",
    "    # Explicación del concepto\n",
    "    explanation = explain_math_concept(concept)\n",
    "    print(\"Explanation:\")\n",
    "    print(explanation)\n",
    "\n",
    "    # Ejemplos prácticos\n",
    "    examples = generate_math_examples(concept)\n",
    "    print(\"\\nExamples:\")\n",
    "    print(examples)\n",
    "\n",
    "    print(\"\\n\" + \"=\" * 80 + \"\\n\")\n",
    "\n",
    "# Ejemplo adicional: Solución de una ecuación cuadrática\n",
    "quadratic_example = \"\"\"\n",
    "Solve the quadratic equation 3x^2 - 4x - 5 = 0. Provide a step-by-step solution and explanation.\n",
    "\"\"\"\n",
    "quadratic_solution = generate_text(quadratic_example)\n",
    "print(\"Quadratic Equation Example:\")\n",
    "print(\"-\" * 26)\n",
    "print(quadratic_solution)\n"
   ]
  },
  {
   "cell_type": "markdown",
   "metadata": {
    "id": "FRHqEzHB7HKh"
   },
   "source": [
    "### Ejercicios\n",
    "\n",
    "1. Diseña una historia interactiva con al menos tres niveles de decisiones. Escribe un diagrama de flujo que muestre todas las posibles rutas y resultados de la historia.\n",
    "2. Lee varias historias generadas por el modelo basadas en diferentes elecciones. Evalúa la continuidad y coherencia de las historias. Identifica y discute cualquier inconsistencia que encuentres.\n",
    "\n",
    "3. Escribe manualmente al menos dos nuevas escenas para cada posible elección en el segundo nivel de decisiones de la historia interactiva proporcionada. Asegúrate de que las escenas sean coherentes y se integren bien en la narrativa existente.\n",
    "\n",
    "4. Diseña un esquema detallado para un documento técnico sobre un tema de tu elección en inteligencia artificial. Incluye al menos seis secciones principales y describe brevemente el contenido de cada sección.\n",
    "\n",
    "5. Utiliza el modelo para generar una sección sobre un tema técnico de tu elección. Analiza el contenido generado en términos de precisión, relevancia y profundidad. ¿Cuáles son las fortalezas y debilidades del contenido generado?\n",
    "6. Encuentra un artículo técnico real sobre un tema similar al generado por el modelo. Compara ambos textos en términos de calidad, detalle y claridad. ¿Qué mejoras sugieres para el contenido generado por el modelo?\n",
    "\n",
    "7. Elige un concepto matemático avanzado (como transformadas de Fourier o series de Taylor). Escribe una explicación detallada del concepto, utilizando al menos dos ejemplos prácticos y resolviendo un problema paso a paso.\n",
    "8. Toma una solución generada por el modelo para un problema matemático (por ejemplo, la solución de una ecuación cuadrática). Revisa y valida cada paso de la solución. ¿Es correcta? Si encuentras errores, corrígelos y explica el proceso correcto.\n",
    "9. Escribe un conjunto de problemas matemáticos que se puedan resolver utilizando los conceptos explicados por el modelo. Para cada problema, proporciona una solución detallada y discute cómo el modelo podría ayudar a generar soluciones similares.\n",
    "10. Investiga diferentes modelos de lenguaje (por ejemplo, GPT-3, BERT, T5). Compara sus arquitecturas, capacidades y aplicaciones. ¿Cuáles son las principales diferencias y en qué contextos se\n",
    "11. Discute las implicaciones éticas y sociales del uso de modelos de lenguaje para generar contenido. Considera aspectos como la generación de noticias falsas, la privacidad de los datos y el sesgo en los modelos. ¿Qué medidas se pueden tomar para mitigar estos riesgos?\n",
    "12. Diseña un proyecto que utilice un modelo de lenguaje para resolver un problema específico en una industria (por ejemplo, salud, educación, finanzas). Describe el problema, cómo el modelo ayudará a resolverlo y los pasos necesarios para implementar la solución.\n",
    "\n"
   ]
  },
  {
   "cell_type": "code",
   "execution_count": null,
   "metadata": {
    "id": "gZUShv2D5B6S"
   },
   "outputs": [],
   "source": [
    "## Tus respuestas"
   ]
  }
 ],
 "metadata": {
  "accelerator": "GPU",
  "colab": {
   "gpuType": "T4",
   "provenance": []
  },
  "kernelspec": {
   "display_name": "Python 3 (ipykernel)",
   "language": "python",
   "name": "python3"
  },
  "language_info": {
   "codemirror_mode": {
    "name": "ipython",
    "version": 3
   },
   "file_extension": ".py",
   "mimetype": "text/x-python",
   "name": "python",
   "nbconvert_exporter": "python",
   "pygments_lexer": "ipython3",
   "version": "3.7.10"
  }
 },
 "nbformat": 4,
 "nbformat_minor": 1
}
