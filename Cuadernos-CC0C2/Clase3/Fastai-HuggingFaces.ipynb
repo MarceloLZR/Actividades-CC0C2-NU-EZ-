{
 "cells": [
  {
   "cell_type": "markdown",
   "metadata": {
    "id": "s787mPpVdvlO"
   },
   "source": [
    "### Transformers y aprendizaje por transferencia \n",
    "\n",
    "**Usando fastai**"
   ]
  },
  {
   "cell_type": "code",
   "execution_count": null,
   "metadata": {
    "executionInfo": {
     "elapsed": 3582,
     "status": "ok",
     "timestamp": 1660871265389,
     "user": {
      "displayName": "CESAR JESUS LARA AVILA",
      "userId": "01059333317062820707"
     },
     "user_tz": 300
    },
    "id": "7bSv7JGzdyzp"
   },
   "outputs": [],
   "source": [
    "from fastai.text.all import *"
   ]
  },
  {
   "cell_type": "code",
   "execution_count": null,
   "metadata": {
    "colab": {
     "base_uri": "https://localhost:8080/",
     "height": 72
    },
    "executionInfo": {
     "elapsed": 33736,
     "status": "ok",
     "timestamp": 1660871303420,
     "user": {
      "displayName": "CESAR JESUS LARA AVILA",
      "userId": "01059333317062820707"
     },
     "user_tz": 300
    },
    "id": "KLilM04eigbE",
    "outputId": "fc76b27e-16c6-4980-b39c-b90177b6ce3d"
   },
   "outputs": [],
   "source": [
    "ruta = untar_data(URLs.IMDB)\n",
    "ruta.ls()"
   ]
  },
  {
   "cell_type": "code",
   "execution_count": null,
   "metadata": {
    "colab": {
     "base_uri": "https://localhost:8080/",
     "height": 17
    },
    "executionInfo": {
     "elapsed": 393314,
     "status": "ok",
     "timestamp": 1660871740471,
     "user": {
      "displayName": "CESAR JESUS LARA AVILA",
      "userId": "01059333317062820707"
     },
     "user_tz": 300
    },
    "id": "DoBJ2cKTiqtX",
    "outputId": "1c0ffd7d-75fe-4662-9010-0dabecc46cee"
   },
   "outputs": [],
   "source": [
    "dls = TextDataLoaders.from_folder(untar_data(URLs.IMDB), valid='test')"
   ]
  },
  {
   "cell_type": "code",
   "execution_count": null,
   "metadata": {
    "colab": {
     "base_uri": "https://localhost:8080/",
     "height": 852
    },
    "executionInfo": {
     "elapsed": 835,
     "status": "ok",
     "timestamp": 1660871760827,
     "user": {
      "displayName": "CESAR JESUS LARA AVILA",
      "userId": "01059333317062820707"
     },
     "user_tz": 300
    },
    "id": "KoKm3AsXjCP9",
    "outputId": "784ace8b-37f7-4cc5-e88a-f0417210f2d3"
   },
   "outputs": [],
   "source": [
    "dls.show_batch()"
   ]
  },
  {
   "cell_type": "code",
   "execution_count": null,
   "metadata": {
    "colab": {
     "base_uri": "https://localhost:8080/",
     "height": 37
    },
    "executionInfo": {
     "elapsed": 4806,
     "status": "ok",
     "timestamp": 1660871774205,
     "user": {
      "displayName": "CESAR JESUS LARA AVILA",
      "userId": "01059333317062820707"
     },
     "user_tz": 300
    },
    "id": "w_V5JeP3k1oe",
    "outputId": "53d2b50e-b205-40bd-8ea5-7f47442aa485"
   },
   "outputs": [],
   "source": [
    "learn = text_classifier_learner(dls, AWD_LSTM, drop_mult=0.5, metrics=accuracy)"
   ]
  },
  {
   "cell_type": "code",
   "execution_count": null,
   "metadata": {
    "colab": {
     "base_uri": "https://localhost:8080/",
     "height": 238
    },
    "executionInfo": {
     "elapsed": 1922956,
     "status": "ok",
     "timestamp": 1660873703429,
     "user": {
      "displayName": "CESAR JESUS LARA AVILA",
      "userId": "01059333317062820707"
     },
     "user_tz": 300
    },
    "id": "CuumAjfJk5RK",
    "outputId": "7734d488-ccab-4f22-bc7d-42d4f9ddf6e5"
   },
   "outputs": [],
   "source": [
    "learn.fine_tune(4, 1e-2)"
   ]
  },
  {
   "cell_type": "code",
   "execution_count": null,
   "metadata": {
    "colab": {
     "base_uri": "https://localhost:8080/",
     "height": 679
    },
    "executionInfo": {
     "elapsed": 2198,
     "status": "ok",
     "timestamp": 1660588567306,
     "user": {
      "displayName": "CESAR JESUS LARA AVILA",
      "userId": "01059333317062820707"
     },
     "user_tz": 300
    },
    "id": "ZncJVVe3k8R4",
    "outputId": "872b7d50-eac5-4fbd-c564-fcadea049449"
   },
   "outputs": [],
   "source": [
    "learn.show_results()"
   ]
  },
  {
   "cell_type": "code",
   "execution_count": null,
   "metadata": {
    "colab": {
     "base_uri": "https://localhost:8080/",
     "height": 34
    },
    "executionInfo": {
     "elapsed": 8,
     "status": "ok",
     "timestamp": 1660588567308,
     "user": {
      "displayName": "CESAR JESUS LARA AVILA",
      "userId": "01059333317062820707"
     },
     "user_tz": 300
    },
    "id": "ce6g3AZOvZx1",
    "outputId": "95f14304-96ad-400e-c1e8-76f8be2cf08e"
   },
   "outputs": [],
   "source": [
    "learn.predict(\"That movie was cool!\")"
   ]
  },
  {
   "cell_type": "markdown",
   "metadata": {},
   "source": [
    "#### ULMFiT\n",
    "\n",
    "ULMFiT (Universal Language Model Fine-tuning) es un enfoque innovador para el aprendizaje por transferencia desarrollado por Jeremy Howard y Sebastian Ruder de fast.ai en 2018. Este modelo ha sido uno de los primeros en demostrar que es posible usar el aprendizaje de transferencia de manera efectiva en tareas de NLP, algo que antes se creía que era casi exclusivo de las áreas de visión por computadora.\n",
    "\n",
    "ULMFiT se basa en varios principios y técnicas clave para adaptar los modelos de lenguaje pre-entrenados a nuevas tareas con relativamente poca data y sin requerir un entrenamiento extensivo desde cero. Los principales componentes de ULMFiT incluyen:\n",
    "\n",
    "- Modelo de lenguaje preentrenado: Comienza con un modelo de lenguaje preentrenado (generalmente un LSTM con técnicas de regularización aplicadas) sobre un corpus grande (como el dataset de Wikipedia). Este modelo aprende una representación general del lenguaje.\n",
    "- Ajuste discriminativo de la tasa de aprendizaje (\"Discriminative Fine-tuning\"): Desde el principio, cada capa del modelo aprende a diferentes velocidades, ajustando así diferentes partes del modelo en diferentes tasas. Por ejemplo, las capas más bajas pueden necesitar menos ajustes que las capas superiores. ULMFiT aplica diferentes tasas de aprendizaje a diferentes capas del modelo durante el afinamiento.\n",
    "\n",
    "- Descongelación gradual de capas (\"gradual unfreezing\"): Para evitar que el aprendizaje rápido destruya las representaciones aprendidas del modelo preentrenado, ULMFiT descongela las capas del modelo gradualmente. Comienza por afinar solo las últimas capas y progresivamente va descongelando las anteriores, permitiendo que todo el modelo se ajuste de manera más efectiva.\n",
    "- Concatenación de técnicas de regularización (\"concat pooling\"): ULMFiT no solo utiliza el estado oculto final de los modelos recurrentes para la clasificación de textos o otras tareas. En lugar de eso, concatena el estado oculto máximo y promedio de todos los tiempos junto con el estado final, lo que proporciona una buena  representación del texto completo.\n",
    "\n",
    "Referencia:[ULMFiT](https://docs.fast.ai/examples/ulmfit.html)"
   ]
  },
  {
   "cell_type": "code",
   "execution_count": null,
   "metadata": {
    "id": "nJ1Lmw_zvnf6"
   },
   "outputs": [],
   "source": [
    "dls_lm = TextDataLoaders.from_folder(ruta, is_lm=True, valid_pct=0.1)"
   ]
  },
  {
   "cell_type": "code",
   "execution_count": null,
   "metadata": {
    "colab": {
     "base_uri": "https://localhost:8080/",
     "height": 380
    },
    "executionInfo": {
     "elapsed": 614,
     "status": "ok",
     "timestamp": 1660588572474,
     "user": {
      "displayName": "CESAR JESUS LARA AVILA",
      "userId": "01059333317062820707"
     },
     "user_tz": 300
    },
    "id": "kVNy9hB-wQt0",
    "outputId": "00dd2e96-5e5d-4b3b-cd7a-61c80056bf46"
   },
   "outputs": [],
   "source": [
    "dls_lm.show_batch(max_n=5)"
   ]
  },
  {
   "cell_type": "code",
   "execution_count": null,
   "metadata": {
    "id": "dwXtyID3wUso"
   },
   "outputs": [],
   "source": [
    "learn = language_model_learner(\n",
    "    dls_lm, AWD_LSTM, metrics=[accuracy, Perplexity()],\n",
    "    path=ruta, wd=0.1).to_fp16()"
   ]
  },
  {
   "cell_type": "code",
   "execution_count": null,
   "metadata": {
    "colab": {
     "base_uri": "https://localhost:8080/",
     "height": 81
    },
    "executionInfo": {
     "elapsed": 2415818,
     "status": "ok",
     "timestamp": 1660590989739,
     "user": {
      "displayName": "CESAR JESUS LARA AVILA",
      "userId": "01059333317062820707"
     },
     "user_tz": 300
    },
    "id": "kdDvjB-IwfQ2",
    "outputId": "ea0e0422-b701-4b11-a5b7-7792844864ab"
   },
   "outputs": [],
   "source": [
    "learn.fit_one_cycle(1, 1e-2)"
   ]
  },
  {
   "cell_type": "code",
   "execution_count": null,
   "metadata": {
    "id": "OCnmzsHQwihw"
   },
   "outputs": [],
   "source": [
    "learn.save('1epoch')"
   ]
  },
  {
   "cell_type": "code",
   "execution_count": null,
   "metadata": {
    "id": "P8eIDfRkwllT"
   },
   "outputs": [],
   "source": [
    "learn = learn.load('1epoch')"
   ]
  },
  {
   "cell_type": "code",
   "execution_count": null,
   "metadata": {
    "id": "JpOY9nC5wpJr"
   },
   "outputs": [],
   "source": [
    "learn.unfreeze()\n",
    "learn.fit_one_cycle(10, 1e-3)"
   ]
  },
  {
   "cell_type": "code",
   "execution_count": null,
   "metadata": {
    "id": "pEFcFXMXE_37"
   },
   "outputs": [],
   "source": [
    "learn.save_encoder('finetuned')"
   ]
  },
  {
   "cell_type": "code",
   "execution_count": null,
   "metadata": {
    "id": "pOeUZIhGDh3x"
   },
   "outputs": [],
   "source": [
    "TEXTO = \"I liked this movie because\"\n",
    "N_PALABRAS = 40\n",
    "N_ORACIONES = 2\n",
    "preds = [learn.predict(TEXTO, N_PALABRAS, temperature=0.75) \n",
    "         for _ in range(N_ORACIONES)]"
   ]
  },
  {
   "cell_type": "code",
   "execution_count": null,
   "metadata": {
    "id": "q-vMCg30FM9T"
   },
   "outputs": [],
   "source": [
    "print(\"\\n\".join(preds))"
   ]
  },
  {
   "cell_type": "markdown",
   "metadata": {
    "id": "WvC3beLVFbwJ"
   },
   "source": [
    "#### Entrenamiento de un clasificador de texto"
   ]
  },
  {
   "cell_type": "code",
   "execution_count": null,
   "metadata": {
    "id": "TYQJlmDRFi-y"
   },
   "outputs": [],
   "source": [
    "dls_clas = TextDataLoaders.from_folder(\n",
    "    untar_data(URLs.IMDB), valid='test',\n",
    "    text_vocab=dls_lm.vocab)"
   ]
  },
  {
   "cell_type": "code",
   "execution_count": null,
   "metadata": {
    "id": "b4vO1X6xFxyM"
   },
   "outputs": [],
   "source": [
    "learn = text_classifier_learner(dls, AWD_LSTM, drop_mult=0.5, metrics=accuracy)"
   ]
  },
  {
   "cell_type": "code",
   "execution_count": null,
   "metadata": {
    "id": "oa_IDpGoF0WP"
   },
   "outputs": [],
   "source": [
    "learn = learn.load_encoder('finetuned')"
   ]
  },
  {
   "cell_type": "code",
   "execution_count": null,
   "metadata": {
    "id": "7nd2V6Z0F34X"
   },
   "outputs": [],
   "source": [
    "learn.fit_one_cycle(1, 2e-2)"
   ]
  },
  {
   "cell_type": "code",
   "execution_count": null,
   "metadata": {
    "id": "-acRt_mjF6qO"
   },
   "outputs": [],
   "source": [
    "learn.freeze_to(-2)\n",
    "learn.fit_one_cycle(1, slice(1e-2/(2.6**4),1e-2))"
   ]
  },
  {
   "cell_type": "code",
   "execution_count": null,
   "metadata": {
    "id": "CPvhN-OPF8bw"
   },
   "outputs": [],
   "source": [
    "learn.freeze_to(-3)\n",
    "learn.fit_one_cycle(1, slice(5e-3/(2.6**4),5e-3))"
   ]
  },
  {
   "cell_type": "code",
   "execution_count": null,
   "metadata": {
    "id": "91bvObTqF_7m"
   },
   "outputs": [],
   "source": [
    "learn.unfreeze()\n",
    "learn.fit_one_cycle(2, slice(1e-3/(2.6**4),1e-3))"
   ]
  },
  {
   "cell_type": "markdown",
   "metadata": {
    "id": "1ILl5H7xGWm0"
   },
   "source": [
    "Algunas de las cosas que puede hacer con la clasificación de texto incluyen: \n",
    "\n",
    "* Predecir el lenguaje de programación de algún código fuente \n",
    "\n",
    "* Creación de un clasificador de spam de correo electrónico simple \n",
    "\n",
    "* Mejorar la funcionalidad de un bot de moderación de contenido automatizado para chats o foros en línea \n",
    "\n",
    "* Categorización de documentos en función del lenguaje.\n"
   ]
  },
  {
   "cell_type": "markdown",
   "metadata": {
    "id": "hOaO5KP0GmG9"
   },
   "source": [
    "**Inferencia con Hugging Face**"
   ]
  },
  {
   "cell_type": "code",
   "execution_count": null,
   "metadata": {
    "colab": {
     "base_uri": "https://localhost:8080/"
    },
    "executionInfo": {
     "elapsed": 10964,
     "status": "ok",
     "timestamp": 1660663712620,
     "user": {
      "displayName": "CESAR JESUS LARA AVILA",
      "userId": "01059333317062820707"
     },
     "user_tz": 300
    },
    "id": "gNeNsKV8Hilo",
    "outputId": "c545ca5b-82fd-4484-c9d1-ba3099451aad"
   },
   "outputs": [],
   "source": [
    "!pip install transformers"
   ]
  },
  {
   "cell_type": "code",
   "execution_count": null,
   "metadata": {
    "id": "B7KZmwSMGCBW"
   },
   "outputs": [],
   "source": [
    "import torch\n",
    "from transformers import GPT2Tokenizer, GPT2LMHeadModel"
   ]
  },
  {
   "cell_type": "code",
   "execution_count": null,
   "metadata": {
    "colab": {
     "base_uri": "https://localhost:8080/",
     "height": 113,
     "referenced_widgets": [
      "10aeb80b1b5746f0a305f779e24f9080",
      "c287b1a3838f4260945eeede0e5dee49",
      "4835dbe4f2ee442290a8aa46d6527897",
      "29555847c57d430ea1d9f50add4d40d9",
      "7d54d68bd1004cc3954ae325720d7056",
      "463a59d0915f49228d8d4e0a3324d4af",
      "3f1970c2247d40d3bff7cae98f377e76",
      "4ca091a8dbfd4f93b00c55492e6a531b",
      "8371800e7b9140cd91a5ace22913c812",
      "830a0f88cd54420d961098a0d4d32ad4",
      "7b8613eb5dfe48c29d35e36086395e37",
      "159029f9c2f745d59dec60d403781dc8",
      "ed012f0284914c39900473769c59b0b7",
      "e06e548d2c4d4b5d9e5bb071ef9ee35d",
      "d9c1e3eef2594706b6859464647ae98c",
      "41c1c1c05257486a85874402e1316960",
      "b1de99b901d54a8a87c823c792f4d500",
      "18b24444ae7e406b8cf1adf0aa5c26a8",
      "a7a850621b0341a9ae6ab037e6e87d7a",
      "770bfa6f87a94af88ac5d4ed86420fe7",
      "160f3dcea5934b209e316c8f71297cdc",
      "4cddd26ffb96452eb58c9a13422e3d7d",
      "6a5fd88948094a11adcb358b7dd92210",
      "e999ad87b9e04dd288a5420567809933",
      "3dc804b13067449687c6eb66875d5204",
      "7b86494d7f6c4d9ab12a9794e9e047a1",
      "caf8216105fc4f2bb2ea027f91c9147c",
      "33c99117b9f44f39ab34b80a2c8487f0",
      "d55c8d24dd4a4f01835f2bb6c8723b68",
      "bd84a8911f0a47768d21697eda08efbe",
      "e2bcfbe41de847ac8443b1ba972a14ec",
      "4c18f5d356074aa5bf771c3b45353860",
      "5ba9f6d947c54c41ab18b7146398c6f4"
     ]
    },
    "executionInfo": {
     "elapsed": 1975,
     "status": "ok",
     "timestamp": 1660663912138,
     "user": {
      "displayName": "CESAR JESUS LARA AVILA",
      "userId": "01059333317062820707"
     },
     "user_tz": 300
    },
    "id": "QdlJPjpOGuUY",
    "outputId": "a11ae9ed-7175-42e5-f856-560b071b1ac3"
   },
   "outputs": [],
   "source": [
    "tokenizer = GPT2Tokenizer.from_pretrained('gpt2')\n",
    "\n",
    "texto = \"With great power comes great \"\n",
    "tokens_indexado = tokenizer.encode(texto)\n",
    "\n",
    "tokens_tensor = torch.tensor([tokens_indexado])"
   ]
  },
  {
   "cell_type": "code",
   "execution_count": null,
   "metadata": {
    "colab": {
     "base_uri": "https://localhost:8080/"
    },
    "executionInfo": {
     "elapsed": 275,
     "status": "ok",
     "timestamp": 1660663914758,
     "user": {
      "displayName": "CESAR JESUS LARA AVILA",
      "userId": "01059333317062820707"
     },
     "user_tz": 300
    },
    "id": "fLIDElaDIA0x",
    "outputId": "01cf205e-b95d-48b4-a843-8f6e62456d60"
   },
   "outputs": [],
   "source": [
    "print(tokens_tensor)"
   ]
  },
  {
   "cell_type": "markdown",
   "metadata": {
    "id": "TB_3HrDnINtP"
   },
   "source": [
    "Ahora, hagamos la inferencia real, que es, nuevamente, solo unas pocas líneas de código gracias a la librería de transformadores `Huggingface`."
   ]
  },
  {
   "cell_type": "code",
   "execution_count": null,
   "metadata": {
    "colab": {
     "base_uri": "https://localhost:8080/",
     "height": 66,
     "referenced_widgets": [
      "3e1228f3324c4404b7bc9dc41e1e5557",
      "f37e2834f2f44efe9de959241c407c17",
      "c7c400631afe406da04c8455c93bde9e",
      "7fc8595d2ba5414ea7c54098c8b04075",
      "bf6b5f6a07b7406ca904d16d53713a43",
      "e3edb77405c94795a27206fe2267e675",
      "57a50f962b744a6783fb40e3ceca8079",
      "7db82968e5b5453db81de34d5b64d3f1",
      "59cb7dabdfef4fc59056e718393f0a30",
      "d5bdbefae79f4f50a3a9295df5049c20",
      "071c67d9feae4467b770c31d300c68e9"
     ]
    },
    "executionInfo": {
     "elapsed": 14666,
     "status": "ok",
     "timestamp": 1660663935016,
     "user": {
      "displayName": "CESAR JESUS LARA AVILA",
      "userId": "01059333317062820707"
     },
     "user_tz": 300
    },
    "id": "pp5P7h7ZIG-J",
    "outputId": "ceb7145d-2cad-4843-8c94-573f37e664ae"
   },
   "outputs": [],
   "source": [
    "modelo = GPT2LMHeadModel.from_pretrained('gpt2')\n",
    "\n",
    "modelo.eval()\n",
    "\n",
    "with torch.no_grad():\n",
    "    salidas = modelo(tokens_tensor)\n",
    "    predicciones = salidas[0]\n",
    "\n",
    "indice_predicho= torch.argmax(predicciones[0, -1, :]).item()\n",
    "texto_predicho = tokenizer.decode(tokens_indexado + [indice_predicho])\n",
    "print(texto_predicho)"
   ]
  },
  {
   "cell_type": "markdown",
   "metadata": {
    "id": "RgHsv1l_JYMe"
   },
   "source": [
    "**Cargando modelos**"
   ]
  },
  {
   "cell_type": "code",
   "execution_count": null,
   "metadata": {
    "id": "wXojV7AhI5BU"
   },
   "outputs": [],
   "source": [
    "modelo = GPT2LMHeadModel.from_pretrained('gpt2')"
   ]
  },
  {
   "cell_type": "code",
   "execution_count": null,
   "metadata": {
    "colab": {
     "base_uri": "https://localhost:8080/"
    },
    "executionInfo": {
     "elapsed": 365,
     "status": "ok",
     "timestamp": 1660664321704,
     "user": {
      "displayName": "CESAR JESUS LARA AVILA",
      "userId": "01059333317062820707"
     },
     "user_tz": 300
    },
    "id": "BmyxEVouJdFV",
    "outputId": "3f3ac9fc-0172-4a03-c32b-1aad1009271a"
   },
   "outputs": [],
   "source": [
    "modelo.eval()"
   ]
  },
  {
   "cell_type": "markdown",
   "metadata": {
    "id": "rF35W9b7JjRt"
   },
   "source": [
    "**Generamos predicciones**"
   ]
  },
  {
   "cell_type": "code",
   "execution_count": null,
   "metadata": {
    "id": "_R9hvoIQJg34"
   },
   "outputs": [],
   "source": [
    "with torch.no_grad():\n",
    "    salidas = modelo(tokens_tensor)\n",
    "    predicciones = salidas[0]"
   ]
  },
  {
   "cell_type": "code",
   "execution_count": null,
   "metadata": {
    "colab": {
     "base_uri": "https://localhost:8080/"
    },
    "executionInfo": {
     "elapsed": 2,
     "status": "ok",
     "timestamp": 1660664326510,
     "user": {
      "displayName": "CESAR JESUS LARA AVILA",
      "userId": "01059333317062820707"
     },
     "user_tz": 300
    },
    "id": "GIHGJ4mOJqaC",
    "outputId": "d73c0221-2f38-4ead-f30e-4862040dab1e"
   },
   "outputs": [],
   "source": [
    "salidas[0].shape"
   ]
  },
  {
   "cell_type": "markdown",
   "metadata": {
    "id": "JSsXPwNDKaxj"
   },
   "source": [
    "Dado que parece que `salidas[0]` es lo que queremos, lo asignaremos a la variable `predicciones`. Colocamos todo juntos y los envolvemos en el contexto `torch.no_grad()` nos da ese mini bloque de código que teníamos antes: "
   ]
  },
  {
   "cell_type": "code",
   "execution_count": null,
   "metadata": {
    "id": "WfrGiU7yJ5Ml"
   },
   "outputs": [],
   "source": [
    "with torch.no_grad():\n",
    "    salidas = modelo(tokens_tensor)\n",
    "    predicciones = salidas[0]"
   ]
  },
  {
   "cell_type": "code",
   "execution_count": null,
   "metadata": {
    "id": "HL3mmtiIKyod"
   },
   "outputs": [],
   "source": [
    "indice_predicho= torch.argmax(predicciones[0, -1, :]).item()"
   ]
  },
  {
   "cell_type": "code",
   "execution_count": null,
   "metadata": {
    "colab": {
     "base_uri": "https://localhost:8080/"
    },
    "executionInfo": {
     "elapsed": 3,
     "status": "ok",
     "timestamp": 1660664329071,
     "user": {
      "displayName": "CESAR JESUS LARA AVILA",
      "userId": "01059333317062820707"
     },
     "user_tz": 300
    },
    "id": "e-iKt5RtK29V",
    "outputId": "ddd9da36-8b69-4653-9ff5-f006d51c5c40"
   },
   "outputs": [],
   "source": [
    "texto_predicho = tokenizer.decode(tokens_indexado + [indice_predicho])\n",
    "print(texto_predicho)"
   ]
  },
  {
   "cell_type": "markdown",
   "metadata": {},
   "source": [
    "**Ejercicio**\n",
    "\n",
    "Completa las dos primeras secciones del curso de [HuggingFaces](https://huggingface.co/learn/nlp-course/es/chapter1/1)."
   ]
  },
  {
   "cell_type": "code",
   "execution_count": null,
   "metadata": {},
   "outputs": [],
   "source": [
    "# Tu respuesta."
   ]
  }
 ],
 "metadata": {
  "accelerator": "GPU",
  "colab": {
   "authorship_tag": "ABX9TyN689bER5NLjJZlHDfaGQr1",
   "collapsed_sections": [],
   "name": "NLP-parte2.ipynb",
   "provenance": []
  },
  "gpuClass": "standard",
  "kernelspec": {
   "display_name": "Python 3 (ipykernel)",
   "language": "python",
   "name": "python3"
  },
  "language_info": {
   "codemirror_mode": {
    "name": "ipython",
    "version": 3
   },
   "file_extension": ".py",
   "mimetype": "text/x-python",
   "name": "python",
   "nbconvert_exporter": "python",
   "pygments_lexer": "ipython3",
   "version": "3.7.10"
  },
  "widgets": {
   "application/vnd.jupyter.widget-state+json": {
    "071c67d9feae4467b770c31d300c68e9": {
     "model_module": "@jupyter-widgets/controls",
     "model_module_version": "1.5.0",
     "model_name": "DescriptionStyleModel",
     "state": {
      "_model_module": "@jupyter-widgets/controls",
      "_model_module_version": "1.5.0",
      "_model_name": "DescriptionStyleModel",
      "_view_count": null,
      "_view_module": "@jupyter-widgets/base",
      "_view_module_version": "1.2.0",
      "_view_name": "StyleView",
      "description_width": ""
     }
    },
    "10aeb80b1b5746f0a305f779e24f9080": {
     "model_module": "@jupyter-widgets/controls",
     "model_module_version": "1.5.0",
     "model_name": "HBoxModel",
     "state": {
      "_dom_classes": [],
      "_model_module": "@jupyter-widgets/controls",
      "_model_module_version": "1.5.0",
      "_model_name": "HBoxModel",
      "_view_count": null,
      "_view_module": "@jupyter-widgets/controls",
      "_view_module_version": "1.5.0",
      "_view_name": "HBoxView",
      "box_style": "",
      "children": [
       "IPY_MODEL_c287b1a3838f4260945eeede0e5dee49",
       "IPY_MODEL_4835dbe4f2ee442290a8aa46d6527897",
       "IPY_MODEL_29555847c57d430ea1d9f50add4d40d9"
      ],
      "layout": "IPY_MODEL_7d54d68bd1004cc3954ae325720d7056"
     }
    },
    "159029f9c2f745d59dec60d403781dc8": {
     "model_module": "@jupyter-widgets/controls",
     "model_module_version": "1.5.0",
     "model_name": "HBoxModel",
     "state": {
      "_dom_classes": [],
      "_model_module": "@jupyter-widgets/controls",
      "_model_module_version": "1.5.0",
      "_model_name": "HBoxModel",
      "_view_count": null,
      "_view_module": "@jupyter-widgets/controls",
      "_view_module_version": "1.5.0",
      "_view_name": "HBoxView",
      "box_style": "",
      "children": [
       "IPY_MODEL_ed012f0284914c39900473769c59b0b7",
       "IPY_MODEL_e06e548d2c4d4b5d9e5bb071ef9ee35d",
       "IPY_MODEL_d9c1e3eef2594706b6859464647ae98c"
      ],
      "layout": "IPY_MODEL_41c1c1c05257486a85874402e1316960"
     }
    },
    "160f3dcea5934b209e316c8f71297cdc": {
     "model_module": "@jupyter-widgets/base",
     "model_module_version": "1.2.0",
     "model_name": "LayoutModel",
     "state": {
      "_model_module": "@jupyter-widgets/base",
      "_model_module_version": "1.2.0",
      "_model_name": "LayoutModel",
      "_view_count": null,
      "_view_module": "@jupyter-widgets/base",
      "_view_module_version": "1.2.0",
      "_view_name": "LayoutView",
      "align_content": null,
      "align_items": null,
      "align_self": null,
      "border": null,
      "bottom": null,
      "display": null,
      "flex": null,
      "flex_flow": null,
      "grid_area": null,
      "grid_auto_columns": null,
      "grid_auto_flow": null,
      "grid_auto_rows": null,
      "grid_column": null,
      "grid_gap": null,
      "grid_row": null,
      "grid_template_areas": null,
      "grid_template_columns": null,
      "grid_template_rows": null,
      "height": null,
      "justify_content": null,
      "justify_items": null,
      "left": null,
      "margin": null,
      "max_height": null,
      "max_width": null,
      "min_height": null,
      "min_width": null,
      "object_fit": null,
      "object_position": null,
      "order": null,
      "overflow": null,
      "overflow_x": null,
      "overflow_y": null,
      "padding": null,
      "right": null,
      "top": null,
      "visibility": null,
      "width": null
     }
    },
    "18b24444ae7e406b8cf1adf0aa5c26a8": {
     "model_module": "@jupyter-widgets/controls",
     "model_module_version": "1.5.0",
     "model_name": "DescriptionStyleModel",
     "state": {
      "_model_module": "@jupyter-widgets/controls",
      "_model_module_version": "1.5.0",
      "_model_name": "DescriptionStyleModel",
      "_view_count": null,
      "_view_module": "@jupyter-widgets/base",
      "_view_module_version": "1.2.0",
      "_view_name": "StyleView",
      "description_width": ""
     }
    },
    "29555847c57d430ea1d9f50add4d40d9": {
     "model_module": "@jupyter-widgets/controls",
     "model_module_version": "1.5.0",
     "model_name": "HTMLModel",
     "state": {
      "_dom_classes": [],
      "_model_module": "@jupyter-widgets/controls",
      "_model_module_version": "1.5.0",
      "_model_name": "HTMLModel",
      "_view_count": null,
      "_view_module": "@jupyter-widgets/controls",
      "_view_module_version": "1.5.0",
      "_view_name": "HTMLView",
      "description": "",
      "description_tooltip": null,
      "layout": "IPY_MODEL_830a0f88cd54420d961098a0d4d32ad4",
      "placeholder": "​",
      "style": "IPY_MODEL_7b8613eb5dfe48c29d35e36086395e37",
      "value": " 0.99M/0.99M [00:00&lt;00:00, 1.30MB/s]"
     }
    },
    "33c99117b9f44f39ab34b80a2c8487f0": {
     "model_module": "@jupyter-widgets/base",
     "model_module_version": "1.2.0",
     "model_name": "LayoutModel",
     "state": {
      "_model_module": "@jupyter-widgets/base",
      "_model_module_version": "1.2.0",
      "_model_name": "LayoutModel",
      "_view_count": null,
      "_view_module": "@jupyter-widgets/base",
      "_view_module_version": "1.2.0",
      "_view_name": "LayoutView",
      "align_content": null,
      "align_items": null,
      "align_self": null,
      "border": null,
      "bottom": null,
      "display": null,
      "flex": null,
      "flex_flow": null,
      "grid_area": null,
      "grid_auto_columns": null,
      "grid_auto_flow": null,
      "grid_auto_rows": null,
      "grid_column": null,
      "grid_gap": null,
      "grid_row": null,
      "grid_template_areas": null,
      "grid_template_columns": null,
      "grid_template_rows": null,
      "height": null,
      "justify_content": null,
      "justify_items": null,
      "left": null,
      "margin": null,
      "max_height": null,
      "max_width": null,
      "min_height": null,
      "min_width": null,
      "object_fit": null,
      "object_position": null,
      "order": null,
      "overflow": null,
      "overflow_x": null,
      "overflow_y": null,
      "padding": null,
      "right": null,
      "top": null,
      "visibility": null,
      "width": null
     }
    },
    "3dc804b13067449687c6eb66875d5204": {
     "model_module": "@jupyter-widgets/controls",
     "model_module_version": "1.5.0",
     "model_name": "FloatProgressModel",
     "state": {
      "_dom_classes": [],
      "_model_module": "@jupyter-widgets/controls",
      "_model_module_version": "1.5.0",
      "_model_name": "FloatProgressModel",
      "_view_count": null,
      "_view_module": "@jupyter-widgets/controls",
      "_view_module_version": "1.5.0",
      "_view_name": "ProgressView",
      "bar_style": "success",
      "description": "",
      "description_tooltip": null,
      "layout": "IPY_MODEL_bd84a8911f0a47768d21697eda08efbe",
      "max": 665,
      "min": 0,
      "orientation": "horizontal",
      "style": "IPY_MODEL_e2bcfbe41de847ac8443b1ba972a14ec",
      "value": 665
     }
    },
    "3e1228f3324c4404b7bc9dc41e1e5557": {
     "model_module": "@jupyter-widgets/controls",
     "model_module_version": "1.5.0",
     "model_name": "HBoxModel",
     "state": {
      "_dom_classes": [],
      "_model_module": "@jupyter-widgets/controls",
      "_model_module_version": "1.5.0",
      "_model_name": "HBoxModel",
      "_view_count": null,
      "_view_module": "@jupyter-widgets/controls",
      "_view_module_version": "1.5.0",
      "_view_name": "HBoxView",
      "box_style": "",
      "children": [
       "IPY_MODEL_f37e2834f2f44efe9de959241c407c17",
       "IPY_MODEL_c7c400631afe406da04c8455c93bde9e",
       "IPY_MODEL_7fc8595d2ba5414ea7c54098c8b04075"
      ],
      "layout": "IPY_MODEL_bf6b5f6a07b7406ca904d16d53713a43"
     }
    },
    "3f1970c2247d40d3bff7cae98f377e76": {
     "model_module": "@jupyter-widgets/controls",
     "model_module_version": "1.5.0",
     "model_name": "DescriptionStyleModel",
     "state": {
      "_model_module": "@jupyter-widgets/controls",
      "_model_module_version": "1.5.0",
      "_model_name": "DescriptionStyleModel",
      "_view_count": null,
      "_view_module": "@jupyter-widgets/base",
      "_view_module_version": "1.2.0",
      "_view_name": "StyleView",
      "description_width": ""
     }
    },
    "41c1c1c05257486a85874402e1316960": {
     "model_module": "@jupyter-widgets/base",
     "model_module_version": "1.2.0",
     "model_name": "LayoutModel",
     "state": {
      "_model_module": "@jupyter-widgets/base",
      "_model_module_version": "1.2.0",
      "_model_name": "LayoutModel",
      "_view_count": null,
      "_view_module": "@jupyter-widgets/base",
      "_view_module_version": "1.2.0",
      "_view_name": "LayoutView",
      "align_content": null,
      "align_items": null,
      "align_self": null,
      "border": null,
      "bottom": null,
      "display": null,
      "flex": null,
      "flex_flow": null,
      "grid_area": null,
      "grid_auto_columns": null,
      "grid_auto_flow": null,
      "grid_auto_rows": null,
      "grid_column": null,
      "grid_gap": null,
      "grid_row": null,
      "grid_template_areas": null,
      "grid_template_columns": null,
      "grid_template_rows": null,
      "height": null,
      "justify_content": null,
      "justify_items": null,
      "left": null,
      "margin": null,
      "max_height": null,
      "max_width": null,
      "min_height": null,
      "min_width": null,
      "object_fit": null,
      "object_position": null,
      "order": null,
      "overflow": null,
      "overflow_x": null,
      "overflow_y": null,
      "padding": null,
      "right": null,
      "top": null,
      "visibility": null,
      "width": null
     }
    },
    "463a59d0915f49228d8d4e0a3324d4af": {
     "model_module": "@jupyter-widgets/base",
     "model_module_version": "1.2.0",
     "model_name": "LayoutModel",
     "state": {
      "_model_module": "@jupyter-widgets/base",
      "_model_module_version": "1.2.0",
      "_model_name": "LayoutModel",
      "_view_count": null,
      "_view_module": "@jupyter-widgets/base",
      "_view_module_version": "1.2.0",
      "_view_name": "LayoutView",
      "align_content": null,
      "align_items": null,
      "align_self": null,
      "border": null,
      "bottom": null,
      "display": null,
      "flex": null,
      "flex_flow": null,
      "grid_area": null,
      "grid_auto_columns": null,
      "grid_auto_flow": null,
      "grid_auto_rows": null,
      "grid_column": null,
      "grid_gap": null,
      "grid_row": null,
      "grid_template_areas": null,
      "grid_template_columns": null,
      "grid_template_rows": null,
      "height": null,
      "justify_content": null,
      "justify_items": null,
      "left": null,
      "margin": null,
      "max_height": null,
      "max_width": null,
      "min_height": null,
      "min_width": null,
      "object_fit": null,
      "object_position": null,
      "order": null,
      "overflow": null,
      "overflow_x": null,
      "overflow_y": null,
      "padding": null,
      "right": null,
      "top": null,
      "visibility": null,
      "width": null
     }
    },
    "4835dbe4f2ee442290a8aa46d6527897": {
     "model_module": "@jupyter-widgets/controls",
     "model_module_version": "1.5.0",
     "model_name": "FloatProgressModel",
     "state": {
      "_dom_classes": [],
      "_model_module": "@jupyter-widgets/controls",
      "_model_module_version": "1.5.0",
      "_model_name": "FloatProgressModel",
      "_view_count": null,
      "_view_module": "@jupyter-widgets/controls",
      "_view_module_version": "1.5.0",
      "_view_name": "ProgressView",
      "bar_style": "success",
      "description": "",
      "description_tooltip": null,
      "layout": "IPY_MODEL_4ca091a8dbfd4f93b00c55492e6a531b",
      "max": 1042301,
      "min": 0,
      "orientation": "horizontal",
      "style": "IPY_MODEL_8371800e7b9140cd91a5ace22913c812",
      "value": 1042301
     }
    },
    "4c18f5d356074aa5bf771c3b45353860": {
     "model_module": "@jupyter-widgets/base",
     "model_module_version": "1.2.0",
     "model_name": "LayoutModel",
     "state": {
      "_model_module": "@jupyter-widgets/base",
      "_model_module_version": "1.2.0",
      "_model_name": "LayoutModel",
      "_view_count": null,
      "_view_module": "@jupyter-widgets/base",
      "_view_module_version": "1.2.0",
      "_view_name": "LayoutView",
      "align_content": null,
      "align_items": null,
      "align_self": null,
      "border": null,
      "bottom": null,
      "display": null,
      "flex": null,
      "flex_flow": null,
      "grid_area": null,
      "grid_auto_columns": null,
      "grid_auto_flow": null,
      "grid_auto_rows": null,
      "grid_column": null,
      "grid_gap": null,
      "grid_row": null,
      "grid_template_areas": null,
      "grid_template_columns": null,
      "grid_template_rows": null,
      "height": null,
      "justify_content": null,
      "justify_items": null,
      "left": null,
      "margin": null,
      "max_height": null,
      "max_width": null,
      "min_height": null,
      "min_width": null,
      "object_fit": null,
      "object_position": null,
      "order": null,
      "overflow": null,
      "overflow_x": null,
      "overflow_y": null,
      "padding": null,
      "right": null,
      "top": null,
      "visibility": null,
      "width": null
     }
    },
    "4ca091a8dbfd4f93b00c55492e6a531b": {
     "model_module": "@jupyter-widgets/base",
     "model_module_version": "1.2.0",
     "model_name": "LayoutModel",
     "state": {
      "_model_module": "@jupyter-widgets/base",
      "_model_module_version": "1.2.0",
      "_model_name": "LayoutModel",
      "_view_count": null,
      "_view_module": "@jupyter-widgets/base",
      "_view_module_version": "1.2.0",
      "_view_name": "LayoutView",
      "align_content": null,
      "align_items": null,
      "align_self": null,
      "border": null,
      "bottom": null,
      "display": null,
      "flex": null,
      "flex_flow": null,
      "grid_area": null,
      "grid_auto_columns": null,
      "grid_auto_flow": null,
      "grid_auto_rows": null,
      "grid_column": null,
      "grid_gap": null,
      "grid_row": null,
      "grid_template_areas": null,
      "grid_template_columns": null,
      "grid_template_rows": null,
      "height": null,
      "justify_content": null,
      "justify_items": null,
      "left": null,
      "margin": null,
      "max_height": null,
      "max_width": null,
      "min_height": null,
      "min_width": null,
      "object_fit": null,
      "object_position": null,
      "order": null,
      "overflow": null,
      "overflow_x": null,
      "overflow_y": null,
      "padding": null,
      "right": null,
      "top": null,
      "visibility": null,
      "width": null
     }
    },
    "4cddd26ffb96452eb58c9a13422e3d7d": {
     "model_module": "@jupyter-widgets/controls",
     "model_module_version": "1.5.0",
     "model_name": "DescriptionStyleModel",
     "state": {
      "_model_module": "@jupyter-widgets/controls",
      "_model_module_version": "1.5.0",
      "_model_name": "DescriptionStyleModel",
      "_view_count": null,
      "_view_module": "@jupyter-widgets/base",
      "_view_module_version": "1.2.0",
      "_view_name": "StyleView",
      "description_width": ""
     }
    },
    "57a50f962b744a6783fb40e3ceca8079": {
     "model_module": "@jupyter-widgets/controls",
     "model_module_version": "1.5.0",
     "model_name": "DescriptionStyleModel",
     "state": {
      "_model_module": "@jupyter-widgets/controls",
      "_model_module_version": "1.5.0",
      "_model_name": "DescriptionStyleModel",
      "_view_count": null,
      "_view_module": "@jupyter-widgets/base",
      "_view_module_version": "1.2.0",
      "_view_name": "StyleView",
      "description_width": ""
     }
    },
    "59cb7dabdfef4fc59056e718393f0a30": {
     "model_module": "@jupyter-widgets/controls",
     "model_module_version": "1.5.0",
     "model_name": "ProgressStyleModel",
     "state": {
      "_model_module": "@jupyter-widgets/controls",
      "_model_module_version": "1.5.0",
      "_model_name": "ProgressStyleModel",
      "_view_count": null,
      "_view_module": "@jupyter-widgets/base",
      "_view_module_version": "1.2.0",
      "_view_name": "StyleView",
      "bar_color": null,
      "description_width": ""
     }
    },
    "5ba9f6d947c54c41ab18b7146398c6f4": {
     "model_module": "@jupyter-widgets/controls",
     "model_module_version": "1.5.0",
     "model_name": "DescriptionStyleModel",
     "state": {
      "_model_module": "@jupyter-widgets/controls",
      "_model_module_version": "1.5.0",
      "_model_name": "DescriptionStyleModel",
      "_view_count": null,
      "_view_module": "@jupyter-widgets/base",
      "_view_module_version": "1.2.0",
      "_view_name": "StyleView",
      "description_width": ""
     }
    },
    "6a5fd88948094a11adcb358b7dd92210": {
     "model_module": "@jupyter-widgets/controls",
     "model_module_version": "1.5.0",
     "model_name": "HBoxModel",
     "state": {
      "_dom_classes": [],
      "_model_module": "@jupyter-widgets/controls",
      "_model_module_version": "1.5.0",
      "_model_name": "HBoxModel",
      "_view_count": null,
      "_view_module": "@jupyter-widgets/controls",
      "_view_module_version": "1.5.0",
      "_view_name": "HBoxView",
      "box_style": "",
      "children": [
       "IPY_MODEL_e999ad87b9e04dd288a5420567809933",
       "IPY_MODEL_3dc804b13067449687c6eb66875d5204",
       "IPY_MODEL_7b86494d7f6c4d9ab12a9794e9e047a1"
      ],
      "layout": "IPY_MODEL_caf8216105fc4f2bb2ea027f91c9147c"
     }
    },
    "770bfa6f87a94af88ac5d4ed86420fe7": {
     "model_module": "@jupyter-widgets/controls",
     "model_module_version": "1.5.0",
     "model_name": "ProgressStyleModel",
     "state": {
      "_model_module": "@jupyter-widgets/controls",
      "_model_module_version": "1.5.0",
      "_model_name": "ProgressStyleModel",
      "_view_count": null,
      "_view_module": "@jupyter-widgets/base",
      "_view_module_version": "1.2.0",
      "_view_name": "StyleView",
      "bar_color": null,
      "description_width": ""
     }
    },
    "7b8613eb5dfe48c29d35e36086395e37": {
     "model_module": "@jupyter-widgets/controls",
     "model_module_version": "1.5.0",
     "model_name": "DescriptionStyleModel",
     "state": {
      "_model_module": "@jupyter-widgets/controls",
      "_model_module_version": "1.5.0",
      "_model_name": "DescriptionStyleModel",
      "_view_count": null,
      "_view_module": "@jupyter-widgets/base",
      "_view_module_version": "1.2.0",
      "_view_name": "StyleView",
      "description_width": ""
     }
    },
    "7b86494d7f6c4d9ab12a9794e9e047a1": {
     "model_module": "@jupyter-widgets/controls",
     "model_module_version": "1.5.0",
     "model_name": "HTMLModel",
     "state": {
      "_dom_classes": [],
      "_model_module": "@jupyter-widgets/controls",
      "_model_module_version": "1.5.0",
      "_model_name": "HTMLModel",
      "_view_count": null,
      "_view_module": "@jupyter-widgets/controls",
      "_view_module_version": "1.5.0",
      "_view_name": "HTMLView",
      "description": "",
      "description_tooltip": null,
      "layout": "IPY_MODEL_4c18f5d356074aa5bf771c3b45353860",
      "placeholder": "​",
      "style": "IPY_MODEL_5ba9f6d947c54c41ab18b7146398c6f4",
      "value": " 665/665 [00:00&lt;00:00, 19.2kB/s]"
     }
    },
    "7d54d68bd1004cc3954ae325720d7056": {
     "model_module": "@jupyter-widgets/base",
     "model_module_version": "1.2.0",
     "model_name": "LayoutModel",
     "state": {
      "_model_module": "@jupyter-widgets/base",
      "_model_module_version": "1.2.0",
      "_model_name": "LayoutModel",
      "_view_count": null,
      "_view_module": "@jupyter-widgets/base",
      "_view_module_version": "1.2.0",
      "_view_name": "LayoutView",
      "align_content": null,
      "align_items": null,
      "align_self": null,
      "border": null,
      "bottom": null,
      "display": null,
      "flex": null,
      "flex_flow": null,
      "grid_area": null,
      "grid_auto_columns": null,
      "grid_auto_flow": null,
      "grid_auto_rows": null,
      "grid_column": null,
      "grid_gap": null,
      "grid_row": null,
      "grid_template_areas": null,
      "grid_template_columns": null,
      "grid_template_rows": null,
      "height": null,
      "justify_content": null,
      "justify_items": null,
      "left": null,
      "margin": null,
      "max_height": null,
      "max_width": null,
      "min_height": null,
      "min_width": null,
      "object_fit": null,
      "object_position": null,
      "order": null,
      "overflow": null,
      "overflow_x": null,
      "overflow_y": null,
      "padding": null,
      "right": null,
      "top": null,
      "visibility": null,
      "width": null
     }
    },
    "7db82968e5b5453db81de34d5b64d3f1": {
     "model_module": "@jupyter-widgets/base",
     "model_module_version": "1.2.0",
     "model_name": "LayoutModel",
     "state": {
      "_model_module": "@jupyter-widgets/base",
      "_model_module_version": "1.2.0",
      "_model_name": "LayoutModel",
      "_view_count": null,
      "_view_module": "@jupyter-widgets/base",
      "_view_module_version": "1.2.0",
      "_view_name": "LayoutView",
      "align_content": null,
      "align_items": null,
      "align_self": null,
      "border": null,
      "bottom": null,
      "display": null,
      "flex": null,
      "flex_flow": null,
      "grid_area": null,
      "grid_auto_columns": null,
      "grid_auto_flow": null,
      "grid_auto_rows": null,
      "grid_column": null,
      "grid_gap": null,
      "grid_row": null,
      "grid_template_areas": null,
      "grid_template_columns": null,
      "grid_template_rows": null,
      "height": null,
      "justify_content": null,
      "justify_items": null,
      "left": null,
      "margin": null,
      "max_height": null,
      "max_width": null,
      "min_height": null,
      "min_width": null,
      "object_fit": null,
      "object_position": null,
      "order": null,
      "overflow": null,
      "overflow_x": null,
      "overflow_y": null,
      "padding": null,
      "right": null,
      "top": null,
      "visibility": null,
      "width": null
     }
    },
    "7fc8595d2ba5414ea7c54098c8b04075": {
     "model_module": "@jupyter-widgets/controls",
     "model_module_version": "1.5.0",
     "model_name": "HTMLModel",
     "state": {
      "_dom_classes": [],
      "_model_module": "@jupyter-widgets/controls",
      "_model_module_version": "1.5.0",
      "_model_name": "HTMLModel",
      "_view_count": null,
      "_view_module": "@jupyter-widgets/controls",
      "_view_module_version": "1.5.0",
      "_view_name": "HTMLView",
      "description": "",
      "description_tooltip": null,
      "layout": "IPY_MODEL_d5bdbefae79f4f50a3a9295df5049c20",
      "placeholder": "​",
      "style": "IPY_MODEL_071c67d9feae4467b770c31d300c68e9",
      "value": " 523M/523M [00:09&lt;00:00, 59.5MB/s]"
     }
    },
    "830a0f88cd54420d961098a0d4d32ad4": {
     "model_module": "@jupyter-widgets/base",
     "model_module_version": "1.2.0",
     "model_name": "LayoutModel",
     "state": {
      "_model_module": "@jupyter-widgets/base",
      "_model_module_version": "1.2.0",
      "_model_name": "LayoutModel",
      "_view_count": null,
      "_view_module": "@jupyter-widgets/base",
      "_view_module_version": "1.2.0",
      "_view_name": "LayoutView",
      "align_content": null,
      "align_items": null,
      "align_self": null,
      "border": null,
      "bottom": null,
      "display": null,
      "flex": null,
      "flex_flow": null,
      "grid_area": null,
      "grid_auto_columns": null,
      "grid_auto_flow": null,
      "grid_auto_rows": null,
      "grid_column": null,
      "grid_gap": null,
      "grid_row": null,
      "grid_template_areas": null,
      "grid_template_columns": null,
      "grid_template_rows": null,
      "height": null,
      "justify_content": null,
      "justify_items": null,
      "left": null,
      "margin": null,
      "max_height": null,
      "max_width": null,
      "min_height": null,
      "min_width": null,
      "object_fit": null,
      "object_position": null,
      "order": null,
      "overflow": null,
      "overflow_x": null,
      "overflow_y": null,
      "padding": null,
      "right": null,
      "top": null,
      "visibility": null,
      "width": null
     }
    },
    "8371800e7b9140cd91a5ace22913c812": {
     "model_module": "@jupyter-widgets/controls",
     "model_module_version": "1.5.0",
     "model_name": "ProgressStyleModel",
     "state": {
      "_model_module": "@jupyter-widgets/controls",
      "_model_module_version": "1.5.0",
      "_model_name": "ProgressStyleModel",
      "_view_count": null,
      "_view_module": "@jupyter-widgets/base",
      "_view_module_version": "1.2.0",
      "_view_name": "StyleView",
      "bar_color": null,
      "description_width": ""
     }
    },
    "a7a850621b0341a9ae6ab037e6e87d7a": {
     "model_module": "@jupyter-widgets/base",
     "model_module_version": "1.2.0",
     "model_name": "LayoutModel",
     "state": {
      "_model_module": "@jupyter-widgets/base",
      "_model_module_version": "1.2.0",
      "_model_name": "LayoutModel",
      "_view_count": null,
      "_view_module": "@jupyter-widgets/base",
      "_view_module_version": "1.2.0",
      "_view_name": "LayoutView",
      "align_content": null,
      "align_items": null,
      "align_self": null,
      "border": null,
      "bottom": null,
      "display": null,
      "flex": null,
      "flex_flow": null,
      "grid_area": null,
      "grid_auto_columns": null,
      "grid_auto_flow": null,
      "grid_auto_rows": null,
      "grid_column": null,
      "grid_gap": null,
      "grid_row": null,
      "grid_template_areas": null,
      "grid_template_columns": null,
      "grid_template_rows": null,
      "height": null,
      "justify_content": null,
      "justify_items": null,
      "left": null,
      "margin": null,
      "max_height": null,
      "max_width": null,
      "min_height": null,
      "min_width": null,
      "object_fit": null,
      "object_position": null,
      "order": null,
      "overflow": null,
      "overflow_x": null,
      "overflow_y": null,
      "padding": null,
      "right": null,
      "top": null,
      "visibility": null,
      "width": null
     }
    },
    "b1de99b901d54a8a87c823c792f4d500": {
     "model_module": "@jupyter-widgets/base",
     "model_module_version": "1.2.0",
     "model_name": "LayoutModel",
     "state": {
      "_model_module": "@jupyter-widgets/base",
      "_model_module_version": "1.2.0",
      "_model_name": "LayoutModel",
      "_view_count": null,
      "_view_module": "@jupyter-widgets/base",
      "_view_module_version": "1.2.0",
      "_view_name": "LayoutView",
      "align_content": null,
      "align_items": null,
      "align_self": null,
      "border": null,
      "bottom": null,
      "display": null,
      "flex": null,
      "flex_flow": null,
      "grid_area": null,
      "grid_auto_columns": null,
      "grid_auto_flow": null,
      "grid_auto_rows": null,
      "grid_column": null,
      "grid_gap": null,
      "grid_row": null,
      "grid_template_areas": null,
      "grid_template_columns": null,
      "grid_template_rows": null,
      "height": null,
      "justify_content": null,
      "justify_items": null,
      "left": null,
      "margin": null,
      "max_height": null,
      "max_width": null,
      "min_height": null,
      "min_width": null,
      "object_fit": null,
      "object_position": null,
      "order": null,
      "overflow": null,
      "overflow_x": null,
      "overflow_y": null,
      "padding": null,
      "right": null,
      "top": null,
      "visibility": null,
      "width": null
     }
    },
    "bd84a8911f0a47768d21697eda08efbe": {
     "model_module": "@jupyter-widgets/base",
     "model_module_version": "1.2.0",
     "model_name": "LayoutModel",
     "state": {
      "_model_module": "@jupyter-widgets/base",
      "_model_module_version": "1.2.0",
      "_model_name": "LayoutModel",
      "_view_count": null,
      "_view_module": "@jupyter-widgets/base",
      "_view_module_version": "1.2.0",
      "_view_name": "LayoutView",
      "align_content": null,
      "align_items": null,
      "align_self": null,
      "border": null,
      "bottom": null,
      "display": null,
      "flex": null,
      "flex_flow": null,
      "grid_area": null,
      "grid_auto_columns": null,
      "grid_auto_flow": null,
      "grid_auto_rows": null,
      "grid_column": null,
      "grid_gap": null,
      "grid_row": null,
      "grid_template_areas": null,
      "grid_template_columns": null,
      "grid_template_rows": null,
      "height": null,
      "justify_content": null,
      "justify_items": null,
      "left": null,
      "margin": null,
      "max_height": null,
      "max_width": null,
      "min_height": null,
      "min_width": null,
      "object_fit": null,
      "object_position": null,
      "order": null,
      "overflow": null,
      "overflow_x": null,
      "overflow_y": null,
      "padding": null,
      "right": null,
      "top": null,
      "visibility": null,
      "width": null
     }
    },
    "bf6b5f6a07b7406ca904d16d53713a43": {
     "model_module": "@jupyter-widgets/base",
     "model_module_version": "1.2.0",
     "model_name": "LayoutModel",
     "state": {
      "_model_module": "@jupyter-widgets/base",
      "_model_module_version": "1.2.0",
      "_model_name": "LayoutModel",
      "_view_count": null,
      "_view_module": "@jupyter-widgets/base",
      "_view_module_version": "1.2.0",
      "_view_name": "LayoutView",
      "align_content": null,
      "align_items": null,
      "align_self": null,
      "border": null,
      "bottom": null,
      "display": null,
      "flex": null,
      "flex_flow": null,
      "grid_area": null,
      "grid_auto_columns": null,
      "grid_auto_flow": null,
      "grid_auto_rows": null,
      "grid_column": null,
      "grid_gap": null,
      "grid_row": null,
      "grid_template_areas": null,
      "grid_template_columns": null,
      "grid_template_rows": null,
      "height": null,
      "justify_content": null,
      "justify_items": null,
      "left": null,
      "margin": null,
      "max_height": null,
      "max_width": null,
      "min_height": null,
      "min_width": null,
      "object_fit": null,
      "object_position": null,
      "order": null,
      "overflow": null,
      "overflow_x": null,
      "overflow_y": null,
      "padding": null,
      "right": null,
      "top": null,
      "visibility": null,
      "width": null
     }
    },
    "c287b1a3838f4260945eeede0e5dee49": {
     "model_module": "@jupyter-widgets/controls",
     "model_module_version": "1.5.0",
     "model_name": "HTMLModel",
     "state": {
      "_dom_classes": [],
      "_model_module": "@jupyter-widgets/controls",
      "_model_module_version": "1.5.0",
      "_model_name": "HTMLModel",
      "_view_count": null,
      "_view_module": "@jupyter-widgets/controls",
      "_view_module_version": "1.5.0",
      "_view_name": "HTMLView",
      "description": "",
      "description_tooltip": null,
      "layout": "IPY_MODEL_463a59d0915f49228d8d4e0a3324d4af",
      "placeholder": "​",
      "style": "IPY_MODEL_3f1970c2247d40d3bff7cae98f377e76",
      "value": "Downloading vocab.json: 100%"
     }
    },
    "c7c400631afe406da04c8455c93bde9e": {
     "model_module": "@jupyter-widgets/controls",
     "model_module_version": "1.5.0",
     "model_name": "FloatProgressModel",
     "state": {
      "_dom_classes": [],
      "_model_module": "@jupyter-widgets/controls",
      "_model_module_version": "1.5.0",
      "_model_name": "FloatProgressModel",
      "_view_count": null,
      "_view_module": "@jupyter-widgets/controls",
      "_view_module_version": "1.5.0",
      "_view_name": "ProgressView",
      "bar_style": "success",
      "description": "",
      "description_tooltip": null,
      "layout": "IPY_MODEL_7db82968e5b5453db81de34d5b64d3f1",
      "max": 548118077,
      "min": 0,
      "orientation": "horizontal",
      "style": "IPY_MODEL_59cb7dabdfef4fc59056e718393f0a30",
      "value": 548118077
     }
    },
    "caf8216105fc4f2bb2ea027f91c9147c": {
     "model_module": "@jupyter-widgets/base",
     "model_module_version": "1.2.0",
     "model_name": "LayoutModel",
     "state": {
      "_model_module": "@jupyter-widgets/base",
      "_model_module_version": "1.2.0",
      "_model_name": "LayoutModel",
      "_view_count": null,
      "_view_module": "@jupyter-widgets/base",
      "_view_module_version": "1.2.0",
      "_view_name": "LayoutView",
      "align_content": null,
      "align_items": null,
      "align_self": null,
      "border": null,
      "bottom": null,
      "display": null,
      "flex": null,
      "flex_flow": null,
      "grid_area": null,
      "grid_auto_columns": null,
      "grid_auto_flow": null,
      "grid_auto_rows": null,
      "grid_column": null,
      "grid_gap": null,
      "grid_row": null,
      "grid_template_areas": null,
      "grid_template_columns": null,
      "grid_template_rows": null,
      "height": null,
      "justify_content": null,
      "justify_items": null,
      "left": null,
      "margin": null,
      "max_height": null,
      "max_width": null,
      "min_height": null,
      "min_width": null,
      "object_fit": null,
      "object_position": null,
      "order": null,
      "overflow": null,
      "overflow_x": null,
      "overflow_y": null,
      "padding": null,
      "right": null,
      "top": null,
      "visibility": null,
      "width": null
     }
    },
    "d55c8d24dd4a4f01835f2bb6c8723b68": {
     "model_module": "@jupyter-widgets/controls",
     "model_module_version": "1.5.0",
     "model_name": "DescriptionStyleModel",
     "state": {
      "_model_module": "@jupyter-widgets/controls",
      "_model_module_version": "1.5.0",
      "_model_name": "DescriptionStyleModel",
      "_view_count": null,
      "_view_module": "@jupyter-widgets/base",
      "_view_module_version": "1.2.0",
      "_view_name": "StyleView",
      "description_width": ""
     }
    },
    "d5bdbefae79f4f50a3a9295df5049c20": {
     "model_module": "@jupyter-widgets/base",
     "model_module_version": "1.2.0",
     "model_name": "LayoutModel",
     "state": {
      "_model_module": "@jupyter-widgets/base",
      "_model_module_version": "1.2.0",
      "_model_name": "LayoutModel",
      "_view_count": null,
      "_view_module": "@jupyter-widgets/base",
      "_view_module_version": "1.2.0",
      "_view_name": "LayoutView",
      "align_content": null,
      "align_items": null,
      "align_self": null,
      "border": null,
      "bottom": null,
      "display": null,
      "flex": null,
      "flex_flow": null,
      "grid_area": null,
      "grid_auto_columns": null,
      "grid_auto_flow": null,
      "grid_auto_rows": null,
      "grid_column": null,
      "grid_gap": null,
      "grid_row": null,
      "grid_template_areas": null,
      "grid_template_columns": null,
      "grid_template_rows": null,
      "height": null,
      "justify_content": null,
      "justify_items": null,
      "left": null,
      "margin": null,
      "max_height": null,
      "max_width": null,
      "min_height": null,
      "min_width": null,
      "object_fit": null,
      "object_position": null,
      "order": null,
      "overflow": null,
      "overflow_x": null,
      "overflow_y": null,
      "padding": null,
      "right": null,
      "top": null,
      "visibility": null,
      "width": null
     }
    },
    "d9c1e3eef2594706b6859464647ae98c": {
     "model_module": "@jupyter-widgets/controls",
     "model_module_version": "1.5.0",
     "model_name": "HTMLModel",
     "state": {
      "_dom_classes": [],
      "_model_module": "@jupyter-widgets/controls",
      "_model_module_version": "1.5.0",
      "_model_name": "HTMLModel",
      "_view_count": null,
      "_view_module": "@jupyter-widgets/controls",
      "_view_module_version": "1.5.0",
      "_view_name": "HTMLView",
      "description": "",
      "description_tooltip": null,
      "layout": "IPY_MODEL_160f3dcea5934b209e316c8f71297cdc",
      "placeholder": "​",
      "style": "IPY_MODEL_4cddd26ffb96452eb58c9a13422e3d7d",
      "value": " 446k/446k [00:00&lt;00:00, 1.53MB/s]"
     }
    },
    "e06e548d2c4d4b5d9e5bb071ef9ee35d": {
     "model_module": "@jupyter-widgets/controls",
     "model_module_version": "1.5.0",
     "model_name": "FloatProgressModel",
     "state": {
      "_dom_classes": [],
      "_model_module": "@jupyter-widgets/controls",
      "_model_module_version": "1.5.0",
      "_model_name": "FloatProgressModel",
      "_view_count": null,
      "_view_module": "@jupyter-widgets/controls",
      "_view_module_version": "1.5.0",
      "_view_name": "ProgressView",
      "bar_style": "success",
      "description": "",
      "description_tooltip": null,
      "layout": "IPY_MODEL_a7a850621b0341a9ae6ab037e6e87d7a",
      "max": 456318,
      "min": 0,
      "orientation": "horizontal",
      "style": "IPY_MODEL_770bfa6f87a94af88ac5d4ed86420fe7",
      "value": 456318
     }
    },
    "e2bcfbe41de847ac8443b1ba972a14ec": {
     "model_module": "@jupyter-widgets/controls",
     "model_module_version": "1.5.0",
     "model_name": "ProgressStyleModel",
     "state": {
      "_model_module": "@jupyter-widgets/controls",
      "_model_module_version": "1.5.0",
      "_model_name": "ProgressStyleModel",
      "_view_count": null,
      "_view_module": "@jupyter-widgets/base",
      "_view_module_version": "1.2.0",
      "_view_name": "StyleView",
      "bar_color": null,
      "description_width": ""
     }
    },
    "e3edb77405c94795a27206fe2267e675": {
     "model_module": "@jupyter-widgets/base",
     "model_module_version": "1.2.0",
     "model_name": "LayoutModel",
     "state": {
      "_model_module": "@jupyter-widgets/base",
      "_model_module_version": "1.2.0",
      "_model_name": "LayoutModel",
      "_view_count": null,
      "_view_module": "@jupyter-widgets/base",
      "_view_module_version": "1.2.0",
      "_view_name": "LayoutView",
      "align_content": null,
      "align_items": null,
      "align_self": null,
      "border": null,
      "bottom": null,
      "display": null,
      "flex": null,
      "flex_flow": null,
      "grid_area": null,
      "grid_auto_columns": null,
      "grid_auto_flow": null,
      "grid_auto_rows": null,
      "grid_column": null,
      "grid_gap": null,
      "grid_row": null,
      "grid_template_areas": null,
      "grid_template_columns": null,
      "grid_template_rows": null,
      "height": null,
      "justify_content": null,
      "justify_items": null,
      "left": null,
      "margin": null,
      "max_height": null,
      "max_width": null,
      "min_height": null,
      "min_width": null,
      "object_fit": null,
      "object_position": null,
      "order": null,
      "overflow": null,
      "overflow_x": null,
      "overflow_y": null,
      "padding": null,
      "right": null,
      "top": null,
      "visibility": null,
      "width": null
     }
    },
    "e999ad87b9e04dd288a5420567809933": {
     "model_module": "@jupyter-widgets/controls",
     "model_module_version": "1.5.0",
     "model_name": "HTMLModel",
     "state": {
      "_dom_classes": [],
      "_model_module": "@jupyter-widgets/controls",
      "_model_module_version": "1.5.0",
      "_model_name": "HTMLModel",
      "_view_count": null,
      "_view_module": "@jupyter-widgets/controls",
      "_view_module_version": "1.5.0",
      "_view_name": "HTMLView",
      "description": "",
      "description_tooltip": null,
      "layout": "IPY_MODEL_33c99117b9f44f39ab34b80a2c8487f0",
      "placeholder": "​",
      "style": "IPY_MODEL_d55c8d24dd4a4f01835f2bb6c8723b68",
      "value": "Downloading config.json: 100%"
     }
    },
    "ed012f0284914c39900473769c59b0b7": {
     "model_module": "@jupyter-widgets/controls",
     "model_module_version": "1.5.0",
     "model_name": "HTMLModel",
     "state": {
      "_dom_classes": [],
      "_model_module": "@jupyter-widgets/controls",
      "_model_module_version": "1.5.0",
      "_model_name": "HTMLModel",
      "_view_count": null,
      "_view_module": "@jupyter-widgets/controls",
      "_view_module_version": "1.5.0",
      "_view_name": "HTMLView",
      "description": "",
      "description_tooltip": null,
      "layout": "IPY_MODEL_b1de99b901d54a8a87c823c792f4d500",
      "placeholder": "​",
      "style": "IPY_MODEL_18b24444ae7e406b8cf1adf0aa5c26a8",
      "value": "Downloading merges.txt: 100%"
     }
    },
    "f37e2834f2f44efe9de959241c407c17": {
     "model_module": "@jupyter-widgets/controls",
     "model_module_version": "1.5.0",
     "model_name": "HTMLModel",
     "state": {
      "_dom_classes": [],
      "_model_module": "@jupyter-widgets/controls",
      "_model_module_version": "1.5.0",
      "_model_name": "HTMLModel",
      "_view_count": null,
      "_view_module": "@jupyter-widgets/controls",
      "_view_module_version": "1.5.0",
      "_view_name": "HTMLView",
      "description": "",
      "description_tooltip": null,
      "layout": "IPY_MODEL_e3edb77405c94795a27206fe2267e675",
      "placeholder": "​",
      "style": "IPY_MODEL_57a50f962b744a6783fb40e3ceca8079",
      "value": "Downloading pytorch_model.bin: 100%"
     }
    }
   }
  }
 },
 "nbformat": 4,
 "nbformat_minor": 1
}
